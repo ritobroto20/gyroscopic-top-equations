{
 "cells": [
  {
   "cell_type": "code",
   "execution_count": 49,
   "metadata": {},
   "outputs": [],
   "source": [
    "import numpy as np\n",
    "import cmath\n",
    "import scipy as sp\n",
    "import matplotlib.pyplot as plt"
   ]
  },
  {
   "cell_type": "code",
   "execution_count": 4,
   "metadata": {},
   "outputs": [
    {
     "data": {
      "text/plain": [
       "4.999999681690114"
      ]
     },
     "execution_count": 4,
     "metadata": {},
     "output_type": "execute_result"
    }
   ],
   "source": [
    "np.arctan(10000000)*2/(np.pi)*5"
   ]
  },
  {
   "cell_type": "code",
   "execution_count": 8,
   "metadata": {},
   "outputs": [
    {
     "name": "stdout",
     "output_type": "stream",
     "text": [
      "The real part of complex number is : 16.0\n",
      "The imaginary part of complex number is : 30.0\n"
     ]
    }
   ],
   "source": [
    "# Initializing complex number\n",
    "z = 5+3j\n",
    "# Print the parts of Complex No.\n",
    "print(\"The real part of complex number is : \", end=\"\")\n",
    "print((z*z).real)\n",
    "\n",
    "print(\"The imaginary part of complex number is : \", end=\"\")\n",
    "print((z*z).imag)"
   ]
  },
  {
   "cell_type": "code",
   "execution_count": 12,
   "metadata": {},
   "outputs": [
    {
     "data": {
      "text/plain": [
       "(-146.92791390831894+20.944066208745966j)"
      ]
     },
     "execution_count": 12,
     "metadata": {},
     "output_type": "execute_result"
    }
   ],
   "source": [
    "np.exp(z)"
   ]
  },
  {
   "cell_type": "code",
   "execution_count": 24,
   "metadata": {},
   "outputs": [
    {
     "data": {
      "text/plain": [
       "7.3890560989306495"
      ]
     },
     "execution_count": 24,
     "metadata": {},
     "output_type": "execute_result"
    }
   ],
   "source": [
    "z = 234j+2\n",
    "abs(np.exp(z))"
   ]
  },
  {
   "cell_type": "code",
   "execution_count": 32,
   "metadata": {},
   "outputs": [
    {
     "data": {
      "text/plain": [
       "2.125"
      ]
     },
     "execution_count": 32,
     "metadata": {},
     "output_type": "execute_result"
    }
   ],
   "source": [
    "def complexFunc1(z):\n",
    "    return z*z/(1+z)\n",
    "\n",
    "complexFunc1(4j+3).real"
   ]
  },
  {
   "cell_type": "code",
   "execution_count": null,
   "metadata": {},
   "outputs": [],
   "source": []
  },
  {
   "cell_type": "code",
   "execution_count": 130,
   "metadata": {},
   "outputs": [],
   "source": [
    "def func(z):\n",
    "    return (z-1)\n",
    "\n",
    "def countour(t):\n",
    "    return np.exp(1j*t)\n"
   ]
  },
  {
   "cell_type": "code",
   "execution_count": 205,
   "metadata": {},
   "outputs": [],
   "source": [
    "def contourIntegral(func,countour,dt,t_i,t_f):\n",
    "    \"\"\"\n",
    "        Args:\n",
    "        func- Function whose contour integral is to be found\n",
    "        contour- Contour in the complex plane which needs to be integrated\n",
    "        dt-    Time step\n",
    "        t_i-   Initial time \n",
    "        t_f-   Final time\n",
    "    \"\"\"\n",
    "    \n",
    "    t_values = np.arange(t_i,t_f,dt)\n",
    "    sum = 0\n",
    "    for i in range(len(t_values)-1):\n",
    "        delta_contour_val = countour(t_values[i+1])-countour(t_values[i])\n",
    "        sum = sum + func(countour(t_values[i]))*delta_contour_val\n",
    "    return sum"
   ]
  },
  {
   "cell_type": "code",
   "execution_count": 198,
   "metadata": {},
   "outputs": [],
   "source": [
    "def func2(x):\n",
    "    return 1/(x-4)\n",
    "\n",
    "def contour2(t):\n",
    "    return np.exp(1j*(t))+4.2"
   ]
  },
  {
   "cell_type": "code",
   "execution_count": 201,
   "metadata": {},
   "outputs": [
    {
     "name": "stdout",
     "output_type": "stream",
     "text": [
      "1.9999985922185457\n",
      "(-3.141591005143069e-05+6.283180884425172j)\n"
     ]
    }
   ],
   "source": [
    "cont_integral1 = contourIntegral(func2,contour2,0.00001,0,2*np.pi)\n",
    "print(abs(cont_integral1)/np.pi)\n",
    "print(cont_integral1)"
   ]
  },
  {
   "cell_type": "code",
   "execution_count": 277,
   "metadata": {},
   "outputs": [],
   "source": [
    "def nthDerivative(func,n,a):\n",
    "    \"\"\"\n",
    "        Args:\n",
    "        func- The function whose n-th derivative is to be calculated\n",
    "        a-    Point at which the derivative needs to be found\n",
    "        n-    The value of n in n-th derivative\n",
    "    \"\"\"\n",
    "    \n",
    "    def contour(t):\n",
    "        return np.exp(1j*(t))+a\n",
    "    \n",
    "    dt = 0.00001\n",
    "    t_i = 0\n",
    "    t_f = 2*np.pi\n",
    "\n",
    "    def integral_func(x):\n",
    "        return func(x)/(x-a)**(n+1)\n",
    "    \n",
    "    f_n = (factorial(n)/(2*np.pi*1j))*(contourIntegral(integral_func,contour,dt,t_i,t_f))\n",
    "    return f_n"
   ]
  },
  {
   "cell_type": "code",
   "execution_count": null,
   "metadata": {},
   "outputs": [],
   "source": []
  },
  {
   "cell_type": "code",
   "execution_count": 293,
   "metadata": {},
   "outputs": [],
   "source": [
    "def func3(x):\n",
    "    return np.sin(x)"
   ]
  },
  {
   "cell_type": "code",
   "execution_count": 298,
   "metadata": {},
   "outputs": [
    {
     "data": {
      "text/plain": [
       "(0.9999147087671877+4.9967286041757474e-06j)"
      ]
     },
     "execution_count": 298,
     "metadata": {},
     "output_type": "execute_result"
    }
   ],
   "source": [
    "nthDerivative(func3,5,0)"
   ]
  },
  {
   "cell_type": "code",
   "execution_count": 300,
   "metadata": {},
   "outputs": [
    {
     "name": "stdout",
     "output_type": "stream",
     "text": [
      "<class 'int'>\n"
     ]
    },
    {
     "ename": "RecursionError",
     "evalue": "maximum recursion depth exceeded in comparison",
     "output_type": "error",
     "traceback": [
      "\u001b[1;31m---------------------------------------------------------------------------\u001b[0m",
      "\u001b[1;31mRecursionError\u001b[0m                            Traceback (most recent call last)",
      "Cell \u001b[1;32mIn[300], line 3\u001b[0m\n\u001b[0;32m      1\u001b[0m \u001b[38;5;28;01mfor\u001b[39;00m i \u001b[38;5;129;01min\u001b[39;00m \u001b[38;5;28mrange\u001b[39m(\u001b[38;5;241m5\u001b[39m):\n\u001b[0;32m      2\u001b[0m     \u001b[38;5;28mprint\u001b[39m(\u001b[38;5;28mtype\u001b[39m(i))\n\u001b[1;32m----> 3\u001b[0m     \u001b[38;5;28mprint\u001b[39m(nthDerivative(func3,\u001b[38;5;28mint\u001b[39m(i),\u001b[38;5;241m2\u001b[39m))\n",
      "Cell \u001b[1;32mIn[277], line 19\u001b[0m, in \u001b[0;36mnthDerivative\u001b[1;34m(func, n, a)\u001b[0m\n\u001b[0;32m     16\u001b[0m \u001b[38;5;28;01mdef\u001b[39;00m \u001b[38;5;21mintegral_func\u001b[39m(x):\n\u001b[0;32m     17\u001b[0m     \u001b[38;5;28;01mreturn\u001b[39;00m func(x)\u001b[38;5;241m/\u001b[39m(x\u001b[38;5;241m-\u001b[39ma)\u001b[38;5;241m*\u001b[39m\u001b[38;5;241m*\u001b[39m(n\u001b[38;5;241m+\u001b[39m\u001b[38;5;241m1\u001b[39m)\n\u001b[1;32m---> 19\u001b[0m f_n \u001b[38;5;241m=\u001b[39m (factorial(n)\u001b[38;5;241m/\u001b[39m(\u001b[38;5;241m2\u001b[39m\u001b[38;5;241m*\u001b[39mnp\u001b[38;5;241m.\u001b[39mpi\u001b[38;5;241m*\u001b[39m\u001b[38;5;241m1\u001b[39mj))\u001b[38;5;241m*\u001b[39m(contourIntegral(integral_func,contour,dt,t_i,t_f))\n\u001b[0;32m     20\u001b[0m \u001b[38;5;28;01mreturn\u001b[39;00m f_n\n",
      "Cell \u001b[1;32mIn[269], line 8\u001b[0m, in \u001b[0;36mfactorial\u001b[1;34m(n)\u001b[0m\n\u001b[0;32m      6\u001b[0m k\u001b[38;5;241m=\u001b[39mn\n\u001b[0;32m      7\u001b[0m \u001b[38;5;28;01mif\u001b[39;00m n\u001b[38;5;241m!=\u001b[39m\u001b[38;5;241m1\u001b[39m:\n\u001b[1;32m----> 8\u001b[0m     \u001b[38;5;28;01mreturn\u001b[39;00m n\u001b[38;5;241m*\u001b[39mfactorial(n\u001b[38;5;241m-\u001b[39m\u001b[38;5;241m1\u001b[39m) \n\u001b[0;32m      9\u001b[0m \u001b[38;5;28;01melse\u001b[39;00m:\n\u001b[0;32m     10\u001b[0m     \u001b[38;5;28;01mreturn\u001b[39;00m \u001b[38;5;241m1\u001b[39m\n",
      "Cell \u001b[1;32mIn[269], line 8\u001b[0m, in \u001b[0;36mfactorial\u001b[1;34m(n)\u001b[0m\n\u001b[0;32m      6\u001b[0m k\u001b[38;5;241m=\u001b[39mn\n\u001b[0;32m      7\u001b[0m \u001b[38;5;28;01mif\u001b[39;00m n\u001b[38;5;241m!=\u001b[39m\u001b[38;5;241m1\u001b[39m:\n\u001b[1;32m----> 8\u001b[0m     \u001b[38;5;28;01mreturn\u001b[39;00m n\u001b[38;5;241m*\u001b[39mfactorial(n\u001b[38;5;241m-\u001b[39m\u001b[38;5;241m1\u001b[39m) \n\u001b[0;32m      9\u001b[0m \u001b[38;5;28;01melse\u001b[39;00m:\n\u001b[0;32m     10\u001b[0m     \u001b[38;5;28;01mreturn\u001b[39;00m \u001b[38;5;241m1\u001b[39m\n",
      "    \u001b[1;31m[... skipping similar frames: factorial at line 8 (2968 times)]\u001b[0m\n",
      "Cell \u001b[1;32mIn[269], line 8\u001b[0m, in \u001b[0;36mfactorial\u001b[1;34m(n)\u001b[0m\n\u001b[0;32m      6\u001b[0m k\u001b[38;5;241m=\u001b[39mn\n\u001b[0;32m      7\u001b[0m \u001b[38;5;28;01mif\u001b[39;00m n\u001b[38;5;241m!=\u001b[39m\u001b[38;5;241m1\u001b[39m:\n\u001b[1;32m----> 8\u001b[0m     \u001b[38;5;28;01mreturn\u001b[39;00m n\u001b[38;5;241m*\u001b[39mfactorial(n\u001b[38;5;241m-\u001b[39m\u001b[38;5;241m1\u001b[39m) \n\u001b[0;32m      9\u001b[0m \u001b[38;5;28;01melse\u001b[39;00m:\n\u001b[0;32m     10\u001b[0m     \u001b[38;5;28;01mreturn\u001b[39;00m \u001b[38;5;241m1\u001b[39m\n",
      "Cell \u001b[1;32mIn[269], line 2\u001b[0m, in \u001b[0;36mfactorial\u001b[1;34m(n)\u001b[0m\n\u001b[0;32m      1\u001b[0m \u001b[38;5;28;01mdef\u001b[39;00m \u001b[38;5;21mfactorial\u001b[39m(n):\n\u001b[1;32m----> 2\u001b[0m     \u001b[38;5;28;01mif\u001b[39;00m \u001b[38;5;28mtype\u001b[39m(n)\u001b[38;5;241m!=\u001b[39m\u001b[38;5;28mint\u001b[39m:\n\u001b[0;32m      3\u001b[0m         \u001b[38;5;28mprint\u001b[39m(\u001b[38;5;124m\"\u001b[39m\u001b[38;5;124myo\u001b[39m\u001b[38;5;124m\"\u001b[39m)\n\u001b[0;32m      4\u001b[0m         \u001b[38;5;28;01mreturn\u001b[39;00m \u001b[38;5;241m0\u001b[39m\n",
      "\u001b[1;31mRecursionError\u001b[0m: maximum recursion depth exceeded in comparison"
     ]
    }
   ],
   "source": [
    "for i in range(5):\n",
    "    print(type(i))\n",
    "    print(nthDerivative(func3,int(i),2))"
   ]
  },
  {
   "cell_type": "code",
   "execution_count": 269,
   "metadata": {},
   "outputs": [],
   "source": [
    "def factorial(n):\n",
    "    if type(n)!=int:\n",
    "        print(\"yo\")\n",
    "        return 0\n",
    "    else:\n",
    "        k=n\n",
    "        if n!=1:\n",
    "            return n*factorial(n-1) \n",
    "        else:\n",
    "            return 1"
   ]
  },
  {
   "cell_type": "code",
   "execution_count": 241,
   "metadata": {},
   "outputs": [
    {
     "name": "stdout",
     "output_type": "stream",
     "text": [
      "24\n"
     ]
    }
   ],
   "source": [
    "print(factorial(4))"
   ]
  },
  {
   "cell_type": "code",
   "execution_count": null,
   "metadata": {},
   "outputs": [],
   "source": []
  },
  {
   "cell_type": "code",
   "execution_count": null,
   "metadata": {},
   "outputs": [],
   "source": []
  },
  {
   "cell_type": "code",
   "execution_count": 126,
   "metadata": {},
   "outputs": [
    {
     "data": {
      "text/plain": [
       "array([0. , 0.7, 1.4, 2.1, 2.8])"
      ]
     },
     "execution_count": 126,
     "metadata": {},
     "output_type": "execute_result"
    }
   ],
   "source": [
    "np.arange(0,3,0.7)"
   ]
  },
  {
   "cell_type": "code",
   "execution_count": 128,
   "metadata": {},
   "outputs": [
    {
     "data": {
      "text/plain": [
       "[<matplotlib.lines.Line2D at 0x24d4787d5d0>]"
      ]
     },
     "execution_count": 128,
     "metadata": {},
     "output_type": "execute_result"
    },
    {
     "data": {
      "image/png": "[encoded data removed]",
      "text/plain": [
       "<Figure size 640x480 with 1 Axes>"
      ]
     },
     "metadata": {},
     "output_type": "display_data"
    }
   ],
   "source": [
    "x = np.linspace(0,10,100)\n",
    "z = countour(x)\n",
    "\n",
    "re = z.real\n",
    "im = z.imag\n",
    "\n",
    "plt.plot(re,im)"
   ]
  },
  {
   "cell_type": "code",
   "execution_count": 129,
   "metadata": {},
   "outputs": [
    {
     "name": "stdout",
     "output_type": "stream",
     "text": [
      "0\n",
      "0j\n",
      "(-3.141592653589793+3.8473413874435795e-16j)\n",
      "(-3.141592653589794-1.813799364234217j)\n",
      "(-3.141592653589794-3.1415926535897927j)\n",
      "(-3.1415926535897936-4.32403132988605j)\n",
      "(-3.1415926535897976-5.441398092702654j)\n",
      "(-3.141592653589795-6.52358436449367j)\n",
      "(-3.1415926535897944-7.584475591748159j)\n",
      "(-3.1415926535897984-8.631454876862485j)\n",
      "(-3.141592653589794-9.668827990464026j)\n",
      "(-3.1415926535897976-10.699282010118973j)\n",
      "(-3.1415926535897984-11.72458339988224j)\n",
      "(-3.141592653589801-12.74594243452285j)\n",
      "(-3.1415926535897967-13.764216751361246j)\n",
      "(-3.141592653589802-14.780031389794857j)\n",
      "(-3.141592653589796-15.793852815564406j)\n",
      "(-3.141592653589796-16.806036311486046j)\n",
      "(-3.1415926535898-17.816857300948357j)\n",
      "(-3.141592653589801-18.82653262947464j)\n",
      "(-3.1415926535897976-19.83523537509455j)\n",
      "(-3.1415926535897887-20.84310537549105j)\n",
      "(-3.1415926535897984-21.85025685239823j)\n",
      "(-3.1415926535898073-22.85678402706748j)\n",
      "(-3.1415926535898073-23.86276531901179j)\n",
      "(-3.141592653589786-24.86826652859683j)\n",
      "(-3.1415926535898038-25.873343279521062j)\n",
      "(-3.141592653589808-26.8780429146583j)\n",
      "(-3.141592653589794-27.88240598297105j)\n",
      "(-3.141592653589786-28.88646741690459j)\n",
      "(-3.1415926535898127-29.89025747296154j)\n",
      "(-3.1415926535897887-30.893802489262338j)\n",
      "(-3.141592653589808-31.897125500357422j)\n",
      "(-3.1415926535898073-32.90024673973464j)\n",
      "(-3.141592653589794-33.903184053260894j)\n",
      "(-3.1415926535897993-34.90595324145649j)\n",
      "(-3.1415926535898038-35.90856834450214j)\n",
      "(-3.141592653589808-36.911041880859436j)\n",
      "(-3.141592653589801-37.91338504808371j)\n",
      "(-3.1415926535898215-38.915607892641184j)\n"
     ]
    },
    {
     "name": "stderr",
     "output_type": "stream",
     "text": [
      "C:\\Users\\ritobrotom\\AppData\\Local\\Temp\\ipykernel_25568\\2275508473.py:7: RuntimeWarning: divide by zero encountered in divide\n",
      "  dt = 2*np.pi/max\n"
     ]
    }
   ],
   "source": [
    "value = []\n",
    "N_values = np.arange(0,40)\n",
    "\n",
    "for max in N_values:\n",
    "    sum = 0\n",
    "    n = 3\n",
    "    dt = 2*np.pi/max\n",
    "    for j in range(max):\n",
    "        sum = sum + countour(1*j*dt)\n",
    "\n",
    "    value.append(sum)\n",
    "\n",
    "    print(sum)\n",
    "\n",
    "# plt.figure()\n",
    "# plt.plot(N_values, abs(value), '.')"
   ]
  },
  {
   "cell_type": "code",
   "execution_count": null,
   "metadata": {},
   "outputs": [],
   "source": []
  },
  {
   "cell_type": "code",
   "execution_count": null,
   "metadata": {},
   "outputs": [],
   "source": []
  },
  {
   "cell_type": "code",
   "execution_count": null,
   "metadata": {},
   "outputs": [],
   "source": []
  },
  {
   "cell_type": "code",
   "execution_count": null,
   "metadata": {},
   "outputs": [],
   "source": []
  },
  {
   "cell_type": "code",
   "execution_count": null,
   "metadata": {},
   "outputs": [],
   "source": []
  },
  {
   "cell_type": "code",
   "execution_count": null,
   "metadata": {},
   "outputs": [],
   "source": []
  }
 ],
 "metadata": {
  "kernelspec": {
   "display_name": "base",
   "language": "python",
   "name": "python3"
  },
  "language_info": {
   "codemirror_mode": {
    "name": "ipython",
    "version": 3
   },
   "file_extension": ".py",
   "mimetype": "text/x-python",
   "name": "python",
   "nbconvert_exporter": "python",
   "pygments_lexer": "ipython3",
   "version": "3.11.5"
  }
 },
 "nbformat": 4,
 "nbformat_minor": 2
}
